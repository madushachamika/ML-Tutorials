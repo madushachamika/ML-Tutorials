{
  "cells": [
    {
      "cell_type": "code",
      "execution_count": null,
      "metadata": {
        "id": "yg-ddoEugh8t"
      },
      "outputs": [],
      "source": [
        "# For tips on running notebooks in Google Colab, see\n",
        "# https://pytorch.org/tutorials/beginner/colab\n",
        "%matplotlib inline"
      ]
    },
    {
      "cell_type": "markdown",
      "metadata": {
        "id": "Zcd6UcV-gh8y"
      },
      "source": [
        "\n",
        "**Learn the Basics** ||\n",
        "[Quickstart](quickstart_tutorial.html) ||\n",
        "[Tensors](tensorqs_tutorial.html) ||\n",
        "[Datasets & DataLoaders](data_tutorial.html) ||\n",
        "[Transforms](transforms_tutorial.html) ||\n",
        "[Build Model](buildmodel_tutorial.html) ||\n",
        "[Autograd](autogradqs_tutorial.html) ||\n",
        "[Optimization](optimization_tutorial.html) ||\n",
        "[Save & Load Model](saveloadrun_tutorial.html)\n",
        "\n",
        "# Learn the Basics\n",
        "\n",
        "Authors:\n",
        "[Suraj Subramanian](https://github.com/suraj813),\n",
        "[Seth Juarez](https://github.com/sethjuarez/),\n",
        "[Cassie Breviu](https://github.com/cassieview/),\n",
        "[Dmitry Soshnikov](https://soshnikov.com/),\n",
        "[Ari Bornstein](https://github.com/aribornstein/)\n",
        "\n",
        "Most machine learning workflows involve working with data, creating models, optimizing model\n",
        "parameters, and saving the trained models. This tutorial introduces you to a complete ML workflow\n",
        "implemented in PyTorch, with links to learn more about each of these concepts.\n",
        "\n",
        "We'll use the FashionMNIST dataset to train a neural network that predicts if an input image belongs\n",
        "to one of the following classes: T-shirt/top, Trouser, Pullover, Dress, Coat, Sandal, Shirt, Sneaker,\n",
        "Bag, or Ankle boot.\n",
        "\n",
        "`This tutorial assumes a basic familiarity with Python and Deep Learning concepts.`\n",
        "\n",
        "\n",
        "## Running the Tutorial Code\n",
        "You can run this tutorial in a couple of ways:\n",
        "\n",
        "- **In the cloud**: This is the easiest way to get started! Each section has a \"Run in Microsoft Learn\" and \"Run in Google Colab\" link at the top, which opens an integrated notebook in Microsoft Learn or Google Colab, respectively, with the code in a fully-hosted environment.\n",
        "- **Locally**: This option requires you to setup PyTorch and TorchVision first on your local machine ([installation instructions](https://pytorch.org/get-started/locally/)). Download the notebook or copy the code into your favorite IDE.\n",
        "\n",
        "\n",
        "## How to Use this Guide\n",
        "If you're familiar with other deep learning frameworks, check out the [0. Quickstart](quickstart_tutorial.html) first\n",
        "to quickly familiarize yourself with PyTorch's API.\n",
        "\n",
        "If you're new to deep learning frameworks, head right into the first section of our step-by-step guide: [1. Tensors](tensor_tutorial.html).\n",
        "\n",
        "\n",
        ".. include:: /beginner_source/basics/qs_toc.txt\n",
        "\n",
        ".. toctree::\n",
        "   :hidden:\n"
      ]
    },
    {
      "cell_type": "code",
      "source": [
        "import torch\n",
        "from torch import nn\n",
        "from torch.utils.data import DataLoader\n",
        "from torchvision import datasets\n",
        "from torchvision.transforms import ToTensor"
      ],
      "metadata": {
        "id": "kZ7aiTsjgs7h"
      },
      "execution_count": 2,
      "outputs": []
    },
    {
      "cell_type": "code",
      "source": [
        "# Download training data from open datasets.\n",
        "training_data = datasets.FashionMNIST(\n",
        "    root=\"data\",\n",
        "    train=True,\n",
        "    download=True,\n",
        "    transform=ToTensor(),\n",
        ")\n",
        "\n",
        "# Download test data from open datasets.\n",
        "test_data = datasets.FashionMNIST(\n",
        "    root=\"data\",\n",
        "    train=False,\n",
        "    download=True,\n",
        "    transform=ToTensor(),\n",
        ")"
      ],
      "metadata": {
        "id": "ZBgBZ2iWjmR4",
        "outputId": "9dc7896e-2be5-41f5-9b18-63010740e31c",
        "colab": {
          "base_uri": "https://localhost:8080/"
        }
      },
      "execution_count": 4,
      "outputs": [
        {
          "output_type": "stream",
          "name": "stdout",
          "text": [
            "Downloading http://fashion-mnist.s3-website.eu-central-1.amazonaws.com/train-images-idx3-ubyte.gz\n",
            "Downloading http://fashion-mnist.s3-website.eu-central-1.amazonaws.com/train-images-idx3-ubyte.gz to data/FashionMNIST/raw/train-images-idx3-ubyte.gz\n"
          ]
        },
        {
          "output_type": "stream",
          "name": "stderr",
          "text": [
            "100%|██████████| 26421880/26421880 [00:01<00:00, 17397011.21it/s]\n"
          ]
        },
        {
          "output_type": "stream",
          "name": "stdout",
          "text": [
            "Extracting data/FashionMNIST/raw/train-images-idx3-ubyte.gz to data/FashionMNIST/raw\n",
            "\n",
            "Downloading http://fashion-mnist.s3-website.eu-central-1.amazonaws.com/train-labels-idx1-ubyte.gz\n",
            "Downloading http://fashion-mnist.s3-website.eu-central-1.amazonaws.com/train-labels-idx1-ubyte.gz to data/FashionMNIST/raw/train-labels-idx1-ubyte.gz\n"
          ]
        },
        {
          "output_type": "stream",
          "name": "stderr",
          "text": [
            "100%|██████████| 29515/29515 [00:00<00:00, 301400.63it/s]\n"
          ]
        },
        {
          "output_type": "stream",
          "name": "stdout",
          "text": [
            "Extracting data/FashionMNIST/raw/train-labels-idx1-ubyte.gz to data/FashionMNIST/raw\n",
            "\n",
            "Downloading http://fashion-mnist.s3-website.eu-central-1.amazonaws.com/t10k-images-idx3-ubyte.gz\n",
            "Downloading http://fashion-mnist.s3-website.eu-central-1.amazonaws.com/t10k-images-idx3-ubyte.gz to data/FashionMNIST/raw/t10k-images-idx3-ubyte.gz\n"
          ]
        },
        {
          "output_type": "stream",
          "name": "stderr",
          "text": [
            "100%|██████████| 4422102/4422102 [00:00<00:00, 5519204.55it/s]\n"
          ]
        },
        {
          "output_type": "stream",
          "name": "stdout",
          "text": [
            "Extracting data/FashionMNIST/raw/t10k-images-idx3-ubyte.gz to data/FashionMNIST/raw\n",
            "\n",
            "Downloading http://fashion-mnist.s3-website.eu-central-1.amazonaws.com/t10k-labels-idx1-ubyte.gz\n",
            "Downloading http://fashion-mnist.s3-website.eu-central-1.amazonaws.com/t10k-labels-idx1-ubyte.gz to data/FashionMNIST/raw/t10k-labels-idx1-ubyte.gz\n"
          ]
        },
        {
          "output_type": "stream",
          "name": "stderr",
          "text": [
            "100%|██████████| 5148/5148 [00:00<00:00, 17177626.88it/s]"
          ]
        },
        {
          "output_type": "stream",
          "name": "stdout",
          "text": [
            "Extracting data/FashionMNIST/raw/t10k-labels-idx1-ubyte.gz to data/FashionMNIST/raw\n",
            "\n"
          ]
        },
        {
          "output_type": "stream",
          "name": "stderr",
          "text": [
            "\n"
          ]
        }
      ]
    },
    {
      "cell_type": "code",
      "source": [
        "batch_size = 64\n",
        "\n",
        "# Create data loaders.\n",
        "train_dataloader = DataLoader(training_data, batch_size=batch_size)\n",
        "test_dataloader = DataLoader(test_data, batch_size=batch_size)\n",
        "\n",
        "for X, y in test_dataloader:\n",
        "    print(f\"Shape of X [N, C, H, W]: {X.shape}\")\n",
        "    print(f\"Shape of y: {y.shape} {y.dtype}\")\n",
        "    break"
      ],
      "metadata": {
        "id": "2b1mwYWCjsmf",
        "outputId": "44664f9b-6100-41d1-b4c2-94b0b3ff7218",
        "colab": {
          "base_uri": "https://localhost:8080/"
        }
      },
      "execution_count": 5,
      "outputs": [
        {
          "output_type": "stream",
          "name": "stdout",
          "text": [
            "Shape of X [N, C, H, W]: torch.Size([64, 1, 28, 28])\n",
            "Shape of y: torch.Size([64]) torch.int64\n"
          ]
        }
      ]
    },
    {
      "cell_type": "code",
      "source": [
        "# Get cpu, gpu or mps device for training.\n",
        "device = (\n",
        "    \"cuda\"\n",
        "    if torch.cuda.is_available()\n",
        "    else \"mps\"\n",
        "    if torch.backends.mps.is_available()\n",
        "    else \"cpu\"\n",
        ")\n",
        "print(f\"Using {device} device\")\n",
        "\n",
        "# Define model\n",
        "class NeuralNetwork(nn.Module):\n",
        "    def __init__(self):\n",
        "        super().__init__()\n",
        "        self.flatten = nn.Flatten()\n",
        "        self.linear_relu_stack = nn.Sequential(\n",
        "            nn.Linear(28*28, 512),\n",
        "            nn.ReLU(),\n",
        "            nn.Linear(512, 512),\n",
        "            nn.ReLU(),\n",
        "            nn.Linear(512, 10)\n",
        "        )\n",
        "\n",
        "    def forward(self, x):\n",
        "        x = self.flatten(x)\n",
        "        logits = self.linear_relu_stack(x)\n",
        "        return logits\n",
        "\n",
        "model = NeuralNetwork().to(device)\n",
        "print(model)"
      ],
      "metadata": {
        "id": "eYFRboY4jzT0",
        "outputId": "36956006-726d-447a-f26f-13f7a93c1ce0",
        "colab": {
          "base_uri": "https://localhost:8080/"
        }
      },
      "execution_count": 6,
      "outputs": [
        {
          "output_type": "stream",
          "name": "stdout",
          "text": [
            "Using cpu device\n",
            "NeuralNetwork(\n",
            "  (flatten): Flatten(start_dim=1, end_dim=-1)\n",
            "  (linear_relu_stack): Sequential(\n",
            "    (0): Linear(in_features=784, out_features=512, bias=True)\n",
            "    (1): ReLU()\n",
            "    (2): Linear(in_features=512, out_features=512, bias=True)\n",
            "    (3): ReLU()\n",
            "    (4): Linear(in_features=512, out_features=10, bias=True)\n",
            "  )\n",
            ")\n"
          ]
        }
      ]
    },
    {
      "cell_type": "code",
      "source": [
        "loss_fn = nn.CrossEntropyLoss()\n",
        "optimizer = torch.optim.SGD(model.parameters(), lr=1e-3)"
      ],
      "metadata": {
        "id": "XjuUGp1Sj3rH"
      },
      "execution_count": 7,
      "outputs": []
    },
    {
      "cell_type": "code",
      "source": [
        "def train(dataloader, model, loss_fn, optimizer):\n",
        "    size = len(dataloader.dataset)\n",
        "    model.train()\n",
        "    for batch, (X, y) in enumerate(dataloader):\n",
        "        X, y = X.to(device), y.to(device)\n",
        "\n",
        "        # Compute prediction error\n",
        "        pred = model(X)\n",
        "        loss = loss_fn(pred, y)\n",
        "\n",
        "        # Backpropagation\n",
        "        loss.backward()\n",
        "        optimizer.step()\n",
        "        optimizer.zero_grad()\n",
        "\n",
        "        if batch % 100 == 0:\n",
        "            loss, current = loss.item(), (batch + 1) * len(X)\n",
        "            print(f\"loss: {loss:>7f}  [{current:>5d}/{size:>5d}]\")"
      ],
      "metadata": {
        "id": "L-9bnhCxXOvH"
      },
      "execution_count": 8,
      "outputs": []
    },
    {
      "cell_type": "code",
      "source": [
        "def test(dataloader, model, loss_fn):\n",
        "    size = len(dataloader.dataset)\n",
        "    num_batches = len(dataloader)\n",
        "    model.eval()\n",
        "    test_loss, correct = 0, 0\n",
        "    with torch.no_grad():\n",
        "        for X, y in dataloader:\n",
        "            X, y = X.to(device), y.to(device)\n",
        "            pred = model(X)\n",
        "            test_loss += loss_fn(pred, y).item()\n",
        "            correct += (pred.argmax(1) == y).type(torch.float).sum().item()\n",
        "    test_loss /= num_batches\n",
        "    correct /= size\n",
        "    print(f\"Test Error: \\n Accuracy: {(100*correct):>0.1f}%, Avg loss: {test_loss:>8f} \\n\")"
      ],
      "metadata": {
        "id": "wkgggHtYYzE6"
      },
      "execution_count": 11,
      "outputs": []
    },
    {
      "cell_type": "code",
      "source": [
        "epochs = 20\n",
        "for t in range(epochs):\n",
        "    print(f\"Epoch {t+1}\\n-------------------------------\")\n",
        "    train(train_dataloader, model, loss_fn, optimizer)\n",
        "    test(test_dataloader, model, loss_fn)\n",
        "print(\"Done!\")"
      ],
      "metadata": {
        "id": "QGXIS3AqZlq3",
        "outputId": "1a15b87b-41a1-4f04-fbd1-83f86489744e",
        "colab": {
          "base_uri": "https://localhost:8080/"
        }
      },
      "execution_count": 13,
      "outputs": [
        {
          "output_type": "stream",
          "name": "stdout",
          "text": [
            "Epoch 1\n",
            "-------------------------------\n",
            "loss: 1.160546  [   64/60000]\n",
            "loss: 1.166320  [ 6464/60000]\n",
            "loss: 0.993545  [12864/60000]\n",
            "loss: 1.114559  [19264/60000]\n",
            "loss: 0.992836  [25664/60000]\n",
            "loss: 1.016717  [32064/60000]\n",
            "loss: 1.062952  [38464/60000]\n",
            "loss: 1.004637  [44864/60000]\n",
            "loss: 1.038602  [51264/60000]\n",
            "loss: 0.963061  [57664/60000]\n",
            "Test Error: \n",
            " Accuracy: 65.7%, Avg loss: 0.982133 \n",
            "\n",
            "Epoch 2\n",
            "-------------------------------\n",
            "loss: 1.039270  [   64/60000]\n",
            "loss: 1.068233  [ 6464/60000]\n",
            "loss: 0.879051  [12864/60000]\n",
            "loss: 1.022988  [19264/60000]\n",
            "loss: 0.904132  [25664/60000]\n",
            "loss: 0.920857  [32064/60000]\n",
            "loss: 0.983908  [38464/60000]\n",
            "loss: 0.929303  [44864/60000]\n",
            "loss: 0.958684  [51264/60000]\n",
            "loss: 0.894593  [57664/60000]\n",
            "Test Error: \n",
            " Accuracy: 67.0%, Avg loss: 0.908866 \n",
            "\n",
            "Epoch 3\n",
            "-------------------------------\n",
            "loss: 0.950089  [   64/60000]\n",
            "loss: 0.998939  [ 6464/60000]\n",
            "loss: 0.795976  [12864/60000]\n",
            "loss: 0.957832  [19264/60000]\n",
            "loss: 0.843904  [25664/60000]\n",
            "loss: 0.849996  [32064/60000]\n",
            "loss: 0.928150  [38464/60000]\n",
            "loss: 0.877683  [44864/60000]\n",
            "loss: 0.900617  [51264/60000]\n",
            "loss: 0.845284  [57664/60000]\n",
            "Test Error: \n",
            " Accuracy: 68.4%, Avg loss: 0.855664 \n",
            "\n",
            "Epoch 4\n",
            "-------------------------------\n",
            "loss: 0.881726  [   64/60000]\n",
            "loss: 0.946586  [ 6464/60000]\n",
            "loss: 0.733385  [12864/60000]\n",
            "loss: 0.908892  [19264/60000]\n",
            "loss: 0.800639  [25664/60000]\n",
            "loss: 0.796296  [32064/60000]\n",
            "loss: 0.886092  [38464/60000]\n",
            "loss: 0.841305  [44864/60000]\n",
            "loss: 0.857009  [51264/60000]\n",
            "loss: 0.807476  [57664/60000]\n",
            "Test Error: \n",
            " Accuracy: 69.8%, Avg loss: 0.815165 \n",
            "\n",
            "Epoch 5\n",
            "-------------------------------\n",
            "loss: 0.827110  [   64/60000]\n",
            "loss: 0.904299  [ 6464/60000]\n",
            "loss: 0.684854  [12864/60000]\n",
            "loss: 0.870505  [19264/60000]\n",
            "loss: 0.767604  [25664/60000]\n",
            "loss: 0.754924  [32064/60000]\n",
            "loss: 0.852137  [38464/60000]\n",
            "loss: 0.814573  [44864/60000]\n",
            "loss: 0.823402  [51264/60000]\n",
            "loss: 0.777190  [57664/60000]\n",
            "Test Error: \n",
            " Accuracy: 71.4%, Avg loss: 0.782970 \n",
            "\n",
            "Epoch 6\n",
            "-------------------------------\n",
            "loss: 0.782261  [   64/60000]\n",
            "loss: 0.868501  [ 6464/60000]\n",
            "loss: 0.645967  [12864/60000]\n",
            "loss: 0.839868  [19264/60000]\n",
            "loss: 0.741096  [25664/60000]\n",
            "loss: 0.722583  [32064/60000]\n",
            "loss: 0.823447  [38464/60000]\n",
            "loss: 0.793762  [44864/60000]\n",
            "loss: 0.796568  [51264/60000]\n",
            "loss: 0.751758  [57664/60000]\n",
            "Test Error: \n",
            " Accuracy: 72.5%, Avg loss: 0.756285 \n",
            "\n",
            "Epoch 7\n",
            "-------------------------------\n",
            "loss: 0.744322  [   64/60000]\n",
            "loss: 0.837301  [ 6464/60000]\n",
            "loss: 0.613630  [12864/60000]\n",
            "loss: 0.814643  [19264/60000]\n",
            "loss: 0.718921  [25664/60000]\n",
            "loss: 0.696679  [32064/60000]\n",
            "loss: 0.798156  [38464/60000]\n",
            "loss: 0.776607  [44864/60000]\n",
            "loss: 0.774388  [51264/60000]\n",
            "loss: 0.729621  [57664/60000]\n",
            "Test Error: \n",
            " Accuracy: 73.6%, Avg loss: 0.733401 \n",
            "\n",
            "Epoch 8\n",
            "-------------------------------\n",
            "loss: 0.711769  [   64/60000]\n",
            "loss: 0.809387  [ 6464/60000]\n",
            "loss: 0.586163  [12864/60000]\n",
            "loss: 0.793289  [19264/60000]\n",
            "loss: 0.699956  [25664/60000]\n",
            "loss: 0.675424  [32064/60000]\n",
            "loss: 0.775143  [38464/60000]\n",
            "loss: 0.761813  [44864/60000]\n",
            "loss: 0.755436  [51264/60000]\n",
            "loss: 0.710123  [57664/60000]\n",
            "Test Error: \n",
            " Accuracy: 74.5%, Avg loss: 0.713217 \n",
            "\n",
            "Epoch 9\n",
            "-------------------------------\n",
            "loss: 0.683346  [   64/60000]\n",
            "loss: 0.783849  [ 6464/60000]\n",
            "loss: 0.562298  [12864/60000]\n",
            "loss: 0.774828  [19264/60000]\n",
            "loss: 0.683435  [25664/60000]\n",
            "loss: 0.657698  [32064/60000]\n",
            "loss: 0.753958  [38464/60000]\n",
            "loss: 0.748689  [44864/60000]\n",
            "loss: 0.738881  [51264/60000]\n",
            "loss: 0.692629  [57664/60000]\n",
            "Test Error: \n",
            " Accuracy: 75.2%, Avg loss: 0.695056 \n",
            "\n",
            "Epoch 10\n",
            "-------------------------------\n",
            "loss: 0.658215  [   64/60000]\n",
            "loss: 0.760357  [ 6464/60000]\n",
            "loss: 0.541299  [12864/60000]\n",
            "loss: 0.758506  [19264/60000]\n",
            "loss: 0.668875  [25664/60000]\n",
            "loss: 0.642628  [32064/60000]\n",
            "loss: 0.734250  [38464/60000]\n",
            "loss: 0.736818  [44864/60000]\n",
            "loss: 0.724396  [51264/60000]\n",
            "loss: 0.676623  [57664/60000]\n",
            "Test Error: \n",
            " Accuracy: 76.1%, Avg loss: 0.678516 \n",
            "\n",
            "Epoch 11\n",
            "-------------------------------\n",
            "loss: 0.635780  [   64/60000]\n",
            "loss: 0.738656  [ 6464/60000]\n",
            "loss: 0.522805  [12864/60000]\n",
            "loss: 0.743870  [19264/60000]\n",
            "loss: 0.656047  [25664/60000]\n",
            "loss: 0.629524  [32064/60000]\n",
            "loss: 0.715858  [38464/60000]\n",
            "loss: 0.726043  [44864/60000]\n",
            "loss: 0.711610  [51264/60000]\n",
            "loss: 0.661778  [57664/60000]\n",
            "Test Error: \n",
            " Accuracy: 76.8%, Avg loss: 0.663352 \n",
            "\n",
            "Epoch 12\n",
            "-------------------------------\n",
            "loss: 0.615598  [   64/60000]\n",
            "loss: 0.718650  [ 6464/60000]\n",
            "loss: 0.506250  [12864/60000]\n",
            "loss: 0.730618  [19264/60000]\n",
            "loss: 0.644652  [25664/60000]\n",
            "loss: 0.618089  [32064/60000]\n",
            "loss: 0.698731  [38464/60000]\n",
            "loss: 0.716420  [44864/60000]\n",
            "loss: 0.700418  [51264/60000]\n",
            "loss: 0.648038  [57664/60000]\n",
            "Test Error: \n",
            " Accuracy: 77.3%, Avg loss: 0.649433 \n",
            "\n",
            "Epoch 13\n",
            "-------------------------------\n",
            "loss: 0.597325  [   64/60000]\n",
            "loss: 0.700231  [ 6464/60000]\n",
            "loss: 0.491434  [12864/60000]\n",
            "loss: 0.718471  [19264/60000]\n",
            "loss: 0.634408  [25664/60000]\n",
            "loss: 0.608094  [32064/60000]\n",
            "loss: 0.682808  [38464/60000]\n",
            "loss: 0.707908  [44864/60000]\n",
            "loss: 0.690676  [51264/60000]\n",
            "loss: 0.635267  [57664/60000]\n",
            "Test Error: \n",
            " Accuracy: 77.9%, Avg loss: 0.636681 \n",
            "\n",
            "Epoch 14\n",
            "-------------------------------\n",
            "loss: 0.580787  [   64/60000]\n",
            "loss: 0.683384  [ 6464/60000]\n",
            "loss: 0.478015  [12864/60000]\n",
            "loss: 0.707269  [19264/60000]\n",
            "loss: 0.625205  [25664/60000]\n",
            "loss: 0.599352  [32064/60000]\n",
            "loss: 0.668073  [38464/60000]\n",
            "loss: 0.700465  [44864/60000]\n",
            "loss: 0.682230  [51264/60000]\n",
            "loss: 0.623426  [57664/60000]\n",
            "Test Error: \n",
            " Accuracy: 78.4%, Avg loss: 0.624992 \n",
            "\n",
            "Epoch 15\n",
            "-------------------------------\n",
            "loss: 0.565787  [   64/60000]\n",
            "loss: 0.667944  [ 6464/60000]\n",
            "loss: 0.465901  [12864/60000]\n",
            "loss: 0.696888  [19264/60000]\n",
            "loss: 0.616912  [25664/60000]\n",
            "loss: 0.591646  [32064/60000]\n",
            "loss: 0.654458  [38464/60000]\n",
            "loss: 0.694134  [44864/60000]\n",
            "loss: 0.674950  [51264/60000]\n",
            "loss: 0.612384  [57664/60000]\n",
            "Test Error: \n",
            " Accuracy: 78.7%, Avg loss: 0.614271 \n",
            "\n",
            "Epoch 16\n",
            "-------------------------------\n",
            "loss: 0.552100  [   64/60000]\n",
            "loss: 0.653706  [ 6464/60000]\n",
            "loss: 0.454858  [12864/60000]\n",
            "loss: 0.687249  [19264/60000]\n",
            "loss: 0.609348  [25664/60000]\n",
            "loss: 0.584764  [32064/60000]\n",
            "loss: 0.641909  [38464/60000]\n",
            "loss: 0.688875  [44864/60000]\n",
            "loss: 0.668712  [51264/60000]\n",
            "loss: 0.602050  [57664/60000]\n",
            "Test Error: \n",
            " Accuracy: 79.0%, Avg loss: 0.604439 \n",
            "\n",
            "Epoch 17\n",
            "-------------------------------\n",
            "loss: 0.539546  [   64/60000]\n",
            "loss: 0.640571  [ 6464/60000]\n",
            "loss: 0.444722  [12864/60000]\n",
            "loss: 0.678267  [19264/60000]\n",
            "loss: 0.602339  [25664/60000]\n",
            "loss: 0.578678  [32064/60000]\n",
            "loss: 0.630295  [38464/60000]\n",
            "loss: 0.684600  [44864/60000]\n",
            "loss: 0.663410  [51264/60000]\n",
            "loss: 0.592308  [57664/60000]\n",
            "Test Error: \n",
            " Accuracy: 79.3%, Avg loss: 0.595412 \n",
            "\n",
            "Epoch 18\n",
            "-------------------------------\n",
            "loss: 0.527934  [   64/60000]\n",
            "loss: 0.628449  [ 6464/60000]\n",
            "loss: 0.435393  [12864/60000]\n",
            "loss: 0.669875  [19264/60000]\n",
            "loss: 0.595763  [25664/60000]\n",
            "loss: 0.573064  [32064/60000]\n",
            "loss: 0.619594  [38464/60000]\n",
            "loss: 0.681149  [44864/60000]\n",
            "loss: 0.658901  [51264/60000]\n",
            "loss: 0.583025  [57664/60000]\n",
            "Test Error: \n",
            " Accuracy: 79.6%, Avg loss: 0.587109 \n",
            "\n",
            "Epoch 19\n",
            "-------------------------------\n",
            "loss: 0.517094  [   64/60000]\n",
            "loss: 0.617275  [ 6464/60000]\n",
            "loss: 0.426737  [12864/60000]\n",
            "loss: 0.661955  [19264/60000]\n",
            "loss: 0.589516  [25664/60000]\n",
            "loss: 0.567887  [32064/60000]\n",
            "loss: 0.609730  [38464/60000]\n",
            "loss: 0.678399  [44864/60000]\n",
            "loss: 0.654972  [51264/60000]\n",
            "loss: 0.574156  [57664/60000]\n",
            "Test Error: \n",
            " Accuracy: 79.8%, Avg loss: 0.579449 \n",
            "\n",
            "Epoch 20\n",
            "-------------------------------\n",
            "loss: 0.507000  [   64/60000]\n",
            "loss: 0.606896  [ 6464/60000]\n",
            "loss: 0.418685  [12864/60000]\n",
            "loss: 0.654512  [19264/60000]\n",
            "loss: 0.583425  [25664/60000]\n",
            "loss: 0.563037  [32064/60000]\n",
            "loss: 0.600594  [38464/60000]\n",
            "loss: 0.676261  [44864/60000]\n",
            "loss: 0.651580  [51264/60000]\n",
            "loss: 0.565642  [57664/60000]\n",
            "Test Error: \n",
            " Accuracy: 80.1%, Avg loss: 0.572360 \n",
            "\n",
            "Done!\n"
          ]
        }
      ]
    }
  ],
  "metadata": {
    "kernelspec": {
      "display_name": "Python 3",
      "language": "python",
      "name": "python3"
    },
    "language_info": {
      "codemirror_mode": {
        "name": "ipython",
        "version": 3
      },
      "file_extension": ".py",
      "mimetype": "text/x-python",
      "name": "python",
      "nbconvert_exporter": "python",
      "pygments_lexer": "ipython3",
      "version": "3.10.10"
    },
    "colab": {
      "provenance": []
    }
  },
  "nbformat": 4,
  "nbformat_minor": 0
}